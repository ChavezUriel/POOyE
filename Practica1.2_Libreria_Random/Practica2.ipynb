{
  "nbformat": 4,
  "nbformat_minor": 0,
  "metadata": {
    "colab": {
      "name": "Practica2.ipynb",
      "provenance": []
    },
    "kernelspec": {
      "name": "python3",
      "display_name": "Python 3"
    },
    "language_info": {
      "name": "python"
    }
  },
  "cells": [
    {
      "cell_type": "markdown",
      "source": [
        "Calcular el producto punto entre dos vectores utilizando una función.\n",
        "\n",
        "Los vectores deberán ser generados en otra función y tendrán 5 dimensiones. Cada componente deberá ser un número flotante entre 0 y 1.\n",
        "\n",
        "La fórmula para calcular el producto punto es la siguiente:\n",
        "$$\n",
        "A\\cdot B = \\sum_{i=1}^N a_i b_i\n",
        "$$\n",
        "\n",
        "El programa debe incluir un menú en el que el usuario pueda elegir entre calcular el producto punto y salir.\n"
      ],
      "metadata": {
        "id": "kGoKK8eNTmyO"
      }
    },
    {
      "cell_type": "code",
      "source": [
        "import random"
      ],
      "metadata": {
        "id": "5c6UrFJDsKgo"
      },
      "execution_count": null,
      "outputs": []
    },
    {
      "cell_type": "code",
      "source": [
        "def vector_rand(N = 5):\n",
        "  vector = []\n",
        "  for i in range(N):\n",
        "    vector.append(random.random())\n",
        "  return vector"
      ],
      "metadata": {
        "id": "NiqfW6CrSh3e"
      },
      "execution_count": null,
      "outputs": []
    },
    {
      "cell_type": "code",
      "source": [
        "def prod_punto(vec1, vec2):\n",
        "  producto = 0\n",
        "  for i in range(len(vec1)):\n",
        "    producto += vec1[i]*vec2[i]\n",
        "  return producto"
      ],
      "metadata": {
        "id": "SB97ThA3sILw"
      },
      "execution_count": null,
      "outputs": []
    },
    {
      "cell_type": "code",
      "source": [
        "while(True):\n",
        "  print(\"Opciones\")\n",
        "  print(\"1. Calcular producto punto\")\n",
        "  print(\"2. Salir\")\n",
        "  opcion = \"0\"\n",
        "  while(opcion != \"1\" and opcion != \"2\"):\n",
        "    opcion = input(\"Ingrese una opción: \")\n",
        "    if(opcion != \"1\" and opcion != \"2\"):\n",
        "      print(\"Opción no válida.\")\n",
        "  if(opcion == \"2\"):\n",
        "    break\n",
        "  else:\n",
        "    vec1 = vector_rand()\n",
        "    vec2 = vector_rand()\n",
        "    prod = prod_punto(vec1, vec2)\n",
        "    print(\"\\nEl vector 1 es: \", vec1)\n",
        "    print(\"El vector 2 es: \", vec2)\n",
        "    print(\"El producto interno es: \", prod)\n",
        "    print(\"\\n\")\n"
      ],
      "metadata": {
        "colab": {
          "base_uri": "https://localhost:8080/"
        },
        "id": "ZmLUSYThtB45",
        "outputId": "ce4ff397-7aa5-4e00-f6ce-08104b97515c"
      },
      "execution_count": 6,
      "outputs": [
        {
          "name": "stdout",
          "output_type": "stream",
          "text": [
            "Opciones\n",
            "1. Calcular producto punto\n",
            "2. Salir\n",
            "Ingrese una opción: 3\n",
            "Opción no válida.\n",
            "Ingrese una opción: 0\n",
            "Opción no válida.\n",
            "Ingrese una opción: g\n",
            "Opción no válida.\n",
            "Ingrese una opción: 1\n",
            "\n",
            "El vector 1 es:  [0.93321478832965, 0.9546594196168615, 0.2770386129257071, 0.7968764513386082, 0.17456541134053127]\n",
            "El vector 2 es:  [0.16851369901175073, 0.44022180422093393, 0.54965600402512, 0.0903026115483958, 0.18448475002966502]\n",
            "El producto interno es:  0.833961985927826\n",
            "\n",
            "\n",
            "Opciones\n",
            "1. Calcular producto punto\n",
            "2. Salir\n",
            "Ingrese una opción: 1\n",
            "\n",
            "El vector 1 es:  [0.4586947206026072, 0.1284492062929088, 0.6167639738834572, 0.9763024304028665, 0.5563380872498157]\n",
            "El vector 2 es:  [0.86651461874583, 0.7329120048357353, 0.4100440315693993, 0.5016518393009385, 0.9498521313372019]\n",
            "El producto interno es:  1.7627108604691983\n",
            "\n",
            "\n",
            "Opciones\n",
            "1. Calcular producto punto\n",
            "2. Salir\n",
            "Ingrese una opción: 2\n"
          ]
        }
      ]
    },
    {
      "cell_type": "code",
      "source": [
        ""
      ],
      "metadata": {
        "id": "xl0l5_xivJfB"
      },
      "execution_count": null,
      "outputs": []
    }
  ]
}