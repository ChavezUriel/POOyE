{
  "nbformat": 4,
  "nbformat_minor": 0,
  "metadata": {
    "colab": {
      "name": "PrimerParcialPOOyE.ipynb",
      "provenance": [],
      "collapsed_sections": []
    },
    "kernelspec": {
      "name": "python3",
      "display_name": "Python 3"
    },
    "language_info": {
      "name": "python"
    }
  },
  "cells": [
    {
      "cell_type": "markdown",
      "source": [
        "Desarrollar un programa para distribuir el monto de un premio recibido por una Universidad (dicho monto será ingresado por teclado). Hay cinco facultades: “Derecho”, “Ciencias Sociales”, “Medicina”, “Matemáticas” y “Computación”. El premio se repartirá según la cantidad de alumnos con excelencia académica (promedio mayor a 9.5) y profesores investigadores (al menos 3 publicaciones en el año). Para cada facultad, debemos generar aleatoriamente un conjunto de alumnos entre 10 y 30. Para cada alumno, generaremos de forma aleatoria su numero de control (con las 3 primeras letras de su facultad y 3 números, los números de control no se deben repetir) y su promedio entre 5 y 10. En cada facultad hay 8 profesores investigadores, debemos generar aleatoriamente su cantidad de artículos publicados en el año (entre 0 y 5). Debemos mostrar en pantalla los alumnos y profesores por facultad. Para calcular el monto a recibir por cada facultad debemos identificar cuántos alumnos tienen excelencia académica y profesores investigadores, este dato servirá para distribuir el monto del premio de acuerdo a lo siguiente: 2.4% del monto por alumno con excelencia académica y 3% por cada profesor investigador.  Se debe mostrar el total que va a recibir cada facultad de acuerdo a los alumnos y profesores. El monto restante del premio, se repartirá de forma equitativa entre las facultades.\n",
        "\n",
        "\n",
        "Se deberán utilizar las siguientes Funciones:\n",
        "\n",
        "1. Generar número de control\n",
        "\n",
        "2. Generar calificación alumno\n",
        "\n",
        "3. Generar articulos publicados por profesor\n",
        "\n",
        "4. Calcular total a recibir por facultad\n",
        "\n",
        "5. FUNCION ADICIONAL DEFINIDA POR EL PROGRAMADOR\n",
        "\n",
        "6. FUNCION ADICIONAL DEFINIDA POR EL PROGRAMADOR"
      ],
      "metadata": {
        "id": "n_6flRjHi6hE"
      }
    },
    {
      "cell_type": "code",
      "source": [
        "import random"
      ],
      "metadata": {
        "id": "G55BgCBKkSQI"
      },
      "execution_count": 246,
      "outputs": []
    },
    {
      "cell_type": "code",
      "source": [
        "def num_con(facultad):\n",
        "  return facultad[:3].lower() + str(random.randrange(10)) + str(random.randrange(10)) + str(random.randrange(10))"
      ],
      "metadata": {
        "id": "r_2v42aei5d7"
      },
      "execution_count": 247,
      "outputs": []
    },
    {
      "cell_type": "code",
      "source": [
        "def gen_calif():\n",
        "  return round(5*random.random() + 5,2)"
      ],
      "metadata": {
        "id": "PQa9I9jYjhDJ"
      },
      "execution_count": 248,
      "outputs": []
    },
    {
      "cell_type": "code",
      "source": [
        "def gen_art():\n",
        "  return random.randrange(6)"
      ],
      "metadata": {
        "id": "-ojSf1kFjjiF"
      },
      "execution_count": 249,
      "outputs": []
    },
    {
      "cell_type": "code",
      "source": [
        "def monto_fac(alumnos, profesores, monto):\n",
        "  # Hace conteo de la cantidad de alumnos y profesores que cumplen con los\n",
        "  # requisitos para premiar.\n",
        "  exc = len([cal for(id,cal) in alumnos if cal > 9.5])\n",
        "  inv = len([art for(id,art) in profesores if art >= 3])\n",
        "  return round(monto*(exc*0.024 + inv*0.03),2)"
      ],
      "metadata": {
        "id": "PmlrUVyCnFo7"
      },
      "execution_count": 250,
      "outputs": []
    },
    {
      "cell_type": "code",
      "source": [
        "def alumnos_fac(facultad):\n",
        "  # Crea una tabla cantidad aleatoria entre 10 y 30 alumnos con número de\n",
        "  # control único y su calificación\n",
        "  n_alum = random.randrange(10,31,1)\n",
        "  tabla = []\n",
        "  ids = []\n",
        "  while(len(tabla) < n_alum):\n",
        "    candidato = num_con(facultad)\n",
        "    if(not (candidato in ids)):\n",
        "      tabla.append([candidato, gen_calif()])\n",
        "      ids.append(candidato)\n",
        "  return tabla"
      ],
      "metadata": {
        "id": "ZkG95CKRpWh_"
      },
      "execution_count": 251,
      "outputs": []
    },
    {
      "cell_type": "code",
      "source": [
        "def profesores_fac(facultad):\n",
        "  # Crea una tabla de 8 profesores con su cantidad de artículos. A cada profesor\n",
        "  # le asigna un número del 1 al 8 para identificarlos\n",
        "  n_prof = 8\n",
        "  tabla = []\n",
        "  for i in range(n_prof):\n",
        "    tabla.append([\"Profesor \"+str(i+1), gen_art()])\n",
        "  return tabla"
      ],
      "metadata": {
        "id": "sIzo9mjXqLt0"
      },
      "execution_count": 252,
      "outputs": []
    },
    {
      "cell_type": "code",
      "source": [
        "facultades = [\"Derecho\", \"Ciencias Sociales\", \"Medicina\", \"Matemáticas\", \"Computación\"]\n",
        "\n",
        "# Declaro diccionarios vacíos donde luego se almacenará la información\n",
        "alumnos = {\"Derecho\":[], \"Ciencias Sociales\":[], \"Medicina\":[], \"Matemáticas\":[], \"Computación\":[]}\n",
        "profesores = {\"Derecho\":[], \"Ciencias Sociales\":[], \"Medicina\":[], \"Matemáticas\":[], \"Computación\":[]}\n",
        "premio = {\"Derecho\":0, \"Ciencias Sociales\":0, \"Medicina\":0, \"Matemáticas\":0, \"Computación\":0}\n",
        "\n",
        "# Se le pide el monto al usuario\n",
        "monto = 0\n",
        "while(monto <= 0):\n",
        "  monto = float(input(\"Ingrese el monto a repartir en premios: \"))\n",
        "  if(monto <= 0):\n",
        "    print(\"Debe ingresar una cantidad positiva.\")\n",
        "\n",
        "# Se generan las tablas de alumnos y profesores de cada facultad, una vez se \n",
        "# generaron estos, también se calculan los premios\n",
        "# Se hace una suma de los premios para verificar cuanto sobra o se excede del\n",
        "# monto dado por el usuario\n",
        "suma = 0\n",
        "for fac in facultades:\n",
        "  alumnos[fac] = alumnos_fac(fac)\n",
        "  profesores[fac] = profesores_fac(fac)\n",
        "  premio[fac] = monto_fac(alumnos[fac],profesores[fac],monto)\n",
        "  suma += premio[fac]\n",
        "\n",
        "print(\"\\nLos premios por alumnos con excelecia académica y profesores investigadores son: \")\n",
        "print(premio)\n",
        "restante = round(monto - suma,2)\n",
        "\n",
        "# Si el restante es positivo o 0, se reparte de forma equitativa\n",
        "if(restante >= 0):\n",
        "  reparto = round(restante/len(facultades),2)\n",
        "  print(\"\\nSobra \"+str(restante)+\" por repartir, a cada falcultad se le sumará \"+str(reparto)+\".\")\n",
        "  suma = 0\n",
        "  for fac in facultades:\n",
        "    premio[fac] += reparto\n",
        "    suma += premio[fac]\n",
        "\n",
        "# Si el restante es negativo, es decir, los premios exceden el monto, entonces \n",
        "# se reducirán los premios de forma proporcional para llegar como cifra final al\n",
        "# monto dado\n",
        "else:\n",
        "  print(\"La suma excede el monto, se reducirán los premios de forma proporcional.\")\n",
        "  factor = monto/suma\n",
        "  suma = 0\n",
        "  for fac in facultades:\n",
        "    premio[fac] = round(premio[fac] * factor,2)\n",
        "    suma += premio[fac]\n",
        "\n",
        "\n",
        "# Imprmime información final de premios y listas de alumnos y profesores\n",
        "print(\"\\nLos premios finales son: \")\n",
        "print(premio)\n",
        "print(\"\\nA continuación se muestran las listas de alumnos y profesores.\")\n",
        "print(alumnos)\n",
        "print(profesores)"
      ],
      "metadata": {
        "colab": {
          "base_uri": "https://localhost:8080/"
        },
        "id": "Oo0ijq63jl37",
        "outputId": "73a32335-1169-41bc-b019-bc24d183106b"
      },
      "execution_count": 253,
      "outputs": [
        {
          "output_type": "stream",
          "name": "stdout",
          "text": [
            "Ingrese el monto a repartir en premios: 10000\n",
            "\n",
            "Los premios por alumnos con excelecia académica y profesores investigadores son: \n",
            "{'Derecho': 1920.0, 'Ciencias Sociales': 1920.0, 'Medicina': 1440.0, 'Matemáticas': 1740.0, 'Computación': 1680.0}\n",
            "\n",
            "Sobra 1300.0 por repartir, a cada falcultad se le sumará 260.0.\n",
            "\n",
            "Los premios finales son: \n",
            "{'Derecho': 2180.0, 'Ciencias Sociales': 2180.0, 'Medicina': 1700.0, 'Matemáticas': 2000.0, 'Computación': 1940.0}\n",
            "\n",
            "A continuación se muestran las listas de alumnos y profesores.\n",
            "{'Derecho': [['der397', 5.49], ['der973', 5.25], ['der475', 6.79], ['der797', 8.77], ['der917', 8.85], ['der587', 9.49], ['der545', 7.38], ['der016', 7.12], ['der088', 6.03], ['der968', 9.19], ['der669', 9.68], ['der077', 6.99], ['der593', 7.36], ['der120', 5.43], ['der072', 8.7], ['der461', 7.97], ['der307', 9.28], ['der037', 9.83], ['der214', 8.69], ['der047', 9.33], ['der707', 7.43], ['der332', 7.88], ['der786', 9.65], ['der033', 9.2]], 'Ciencias Sociales': [['cie351', 5.12], ['cie461', 9.88], ['cie238', 9.28], ['cie337', 9.79], ['cie087', 7.37], ['cie437', 7.08], ['cie101', 5.44], ['cie555', 8.69], ['cie010', 6.11], ['cie883', 6.66], ['cie242', 5.65], ['cie870', 8.83], ['cie183', 5.36], ['cie931', 5.51], ['cie096', 7.02], ['cie796', 6.4], ['cie244', 6.95], ['cie387', 9.85]], 'Medicina': [['med940', 5.98], ['med106', 9.67], ['med836', 5.84], ['med316', 8.61], ['med570', 7.3], ['med477', 6.83], ['med326', 7.5], ['med540', 7.54], ['med359', 8.13], ['med826', 6.78], ['med284', 6.54]], 'Matemáticas': [['mat140', 5.58], ['mat998', 8.41], ['mat029', 6.96], ['mat697', 9.53], ['mat138', 5.72], ['mat442', 7.31], ['mat204', 9.39], ['mat490', 6.33], ['mat740', 8.61], ['mat647', 6.29], ['mat711', 7.19], ['mat463', 5.97], ['mat077', 6.33], ['mat085', 9.3], ['mat174', 6.35], ['mat488', 8.19], ['mat359', 8.9], ['mat969', 6.35], ['mat913', 8.47]], 'Computación': [['com701', 6.97], ['com480', 9.71], ['com958', 5.26], ['com345', 5.77], ['com564', 8.32], ['com403', 9.25], ['com622', 7.48], ['com062', 5.17], ['com242', 9.75], ['com948', 5.72], ['com377', 6.51], ['com715', 7.28], ['com812', 5.36], ['com450', 5.46], ['com918', 8.18], ['com067', 8.71]]}\n",
            "{'Derecho': [['Profesor 1', 4], ['Profesor 2', 4], ['Profesor 3', 3], ['Profesor 4', 0], ['Profesor 5', 0], ['Profesor 6', 2], ['Profesor 7', 1], ['Profesor 8', 5]], 'Ciencias Sociales': [['Profesor 1', 5], ['Profesor 2', 2], ['Profesor 3', 1], ['Profesor 4', 4], ['Profesor 5', 0], ['Profesor 6', 3], ['Profesor 7', 4], ['Profesor 8', 2]], 'Medicina': [['Profesor 1', 5], ['Profesor 2', 1], ['Profesor 3', 3], ['Profesor 4', 3], ['Profesor 5', 1], ['Profesor 6', 4], ['Profesor 7', 1], ['Profesor 8', 1]], 'Matemáticas': [['Profesor 1', 1], ['Profesor 2', 4], ['Profesor 3', 1], ['Profesor 4', 2], ['Profesor 5', 5], ['Profesor 6', 3], ['Profesor 7', 3], ['Profesor 8', 3]], 'Computación': [['Profesor 1', 0], ['Profesor 2', 4], ['Profesor 3', 4], ['Profesor 4', 0], ['Profesor 5', 0], ['Profesor 6', 5], ['Profesor 7', 2], ['Profesor 8', 3]]}\n"
          ]
        }
      ]
    },
    {
      "cell_type": "markdown",
      "source": [
        "Añadí una celda en la que se repite el proceso con un monto de 1000 hasta verificar si se puede dar el caso en el que los premios excedan el monto."
      ],
      "metadata": {
        "id": "pCPQgD5K8wKY"
      }
    },
    {
      "cell_type": "code",
      "source": [
        "i=0\n",
        "restante = 1\n",
        "while(restante > 0):\n",
        "  i+=1\n",
        "  print(i)\n",
        "  facultades = [\"Derecho\", \"Ciencias Sociales\", \"Medicina\", \"Matemáticas\", \"Computación\"]\n",
        "  alumnos = {\"Derecho\":[], \"Ciencias Sociales\":[], \"Medicina\":[], \"Matemáticas\":[], \"Computación\":[]}\n",
        "  profesores = {\"Derecho\":[], \"Ciencias Sociales\":[], \"Medicina\":[], \"Matemáticas\":[], \"Computación\":[]}\n",
        "  premio = {\"Derecho\":0, \"Ciencias Sociales\":0, \"Medicina\":0, \"Matemáticas\":0, \"Computación\":0}\n",
        "  monto = 0\n",
        "  while(monto <= 0):\n",
        "    #monto = float(input(\"Ingrese el monto a repartir en premios: \"))\n",
        "    monto = 1000\n",
        "    if(monto <= 0):\n",
        "      print(\"Debe ingresar una cantidad positiva.\")\n",
        "  suma = 0\n",
        "  for fac in facultades:\n",
        "    alumnos[fac] = alumnos_fac(fac)\n",
        "    profesores[fac] = profesores_fac(fac)\n",
        "    premio[fac] = monto_fac(alumnos[fac],profesores[fac],monto)\n",
        "    suma += premio[fac]\n",
        "  #print(\"\\nLos premios por alumnos con excelecia académica y profesores investigadores son: \")\n",
        "  #print(premio)\n",
        "  restante = round(monto - suma,2)\n",
        "  if(restante >= 0):\n",
        "    reparto = round(restante/len(facultades),2)\n",
        "    #print(\"\\nSobra \"+str(restante)+\" por repartir, a cada falcultad se le sumará \"+str(reparto)+\".\")\n",
        "    suma = 0\n",
        "    for fac in facultades:\n",
        "      premio[fac] += reparto\n",
        "      suma += premio[fac]\n",
        "  else:\n",
        "    print(\"\\nLos premios por alumnos con excelecia académica y profesores investigadores son: \")\n",
        "    print(premio)\n",
        "    print(\"La suma excede el monto, se reducirán los premios de forma proporcional.\")\n",
        "    factor = monto/suma\n",
        "    suma = 0\n",
        "    for fac in facultades:\n",
        "      premio[fac] = round(premio[fac] * factor,2)\n",
        "      suma += premio[fac]\n",
        "    print(\"\\nLos premios finales son: \")\n",
        "    print(premio)\n",
        "    print(\"\\nA continuación se muestran las listas de alumnos y profesores.\")\n",
        "    print(alumnos)\n",
        "    print(profesores)\n"
      ],
      "metadata": {
        "colab": {
          "base_uri": "https://localhost:8080/"
        },
        "id": "WLYScy6ctcgG",
        "outputId": "ba968ed1-a3d6-40e5-8165-87ebe203c6d2"
      },
      "execution_count": 254,
      "outputs": [
        {
          "output_type": "stream",
          "name": "stdout",
          "text": [
            "1\n",
            "2\n",
            "3\n",
            "4\n",
            "5\n",
            "6\n",
            "7\n",
            "8\n",
            "9\n",
            "10\n",
            "11\n",
            "12\n",
            "13\n",
            "\n",
            "Los premios por alumnos con excelecia académica y profesores investigadores son: \n",
            "{'Derecho': 186.0, 'Ciencias Sociales': 186.0, 'Medicina': 324.0, 'Matemáticas': 132.0, 'Computación': 222.0}\n",
            "La suma excede el monto, se reducirán los premios de forma proporcional.\n",
            "\n",
            "Los premios finales son: \n",
            "{'Derecho': 177.14, 'Ciencias Sociales': 177.14, 'Medicina': 308.57, 'Matemáticas': 125.71, 'Computación': 211.43}\n",
            "\n",
            "A continuación se muestran las listas de alumnos y profesores.\n",
            "{'Derecho': [['der772', 5.85], ['der077', 8.3], ['der165', 6.43], ['der503', 5.13], ['der736', 6.6], ['der495', 9.74], ['der310', 9.0], ['der067', 7.48], ['der195', 9.61], ['der709', 7.0], ['der695', 7.5], ['der133', 7.19], ['der589', 9.67], ['der199', 8.05], ['der203', 8.68], ['der131', 9.94], ['der160', 5.18], ['der362', 6.64], ['der614', 5.86], ['der338', 7.61], ['der692', 5.7], ['der504', 5.15], ['der350', 6.82], ['der465', 9.5], ['der086', 6.42], ['der323', 7.06], ['der533', 8.06]], 'Ciencias Sociales': [['cie794', 7.34], ['cie804', 6.41], ['cie507', 9.6], ['cie618', 5.41], ['cie262', 5.8], ['cie679', 9.89], ['cie264', 6.0], ['cie531', 9.11], ['cie896', 9.11], ['cie407', 5.42], ['cie290', 5.64], ['cie173', 5.45], ['cie211', 8.76], ['cie948', 5.28], ['cie346', 7.55], ['cie561', 8.23], ['cie582', 5.37], ['cie153', 9.44], ['cie147', 6.93], ['cie855', 9.97], ['cie193', 7.69], ['cie380', 6.93], ['cie109', 6.95], ['cie799', 9.79], ['cie312', 6.74], ['cie452', 5.73], ['cie252', 6.1], ['cie957', 5.19]], 'Medicina': [['med869', 5.79], ['med025', 7.69], ['med448', 7.7], ['med783', 9.79], ['med649', 6.37], ['med506', 9.78], ['med775', 9.63], ['med181', 5.31], ['med952', 8.93], ['med727', 8.0], ['med627', 8.22], ['med694', 9.21], ['med232', 7.53], ['med982', 5.19], ['med706', 9.6], ['med829', 6.93], ['med494', 6.69], ['med863', 7.95], ['med155', 5.48], ['med190', 5.26], ['med346', 6.27], ['med268', 7.31], ['med997', 9.56], ['med199', 7.56], ['med643', 5.65], ['med044', 7.72], ['med298', 9.96], ['med358', 7.43], ['med655', 7.34]], 'Matemáticas': [['mat620', 9.65], ['mat821', 5.27], ['mat110', 7.8], ['mat569', 9.66], ['mat649', 9.04], ['mat684', 9.0], ['mat453', 6.16], ['mat432', 7.88], ['mat835', 8.6], ['mat546', 8.8], ['mat405', 5.11], ['mat824', 7.47], ['mat260', 8.59], ['mat877', 8.0], ['mat603', 5.18], ['mat142', 9.28], ['mat393', 8.44], ['mat488', 9.8], ['mat737', 9.43], ['mat280', 7.59], ['mat776', 6.13], ['mat082', 9.05], ['mat166', 9.43], ['mat559', 7.75], ['mat598', 8.68], ['mat126', 7.71], ['mat724', 7.6], ['mat441', 8.59], ['mat225', 8.7]], 'Computación': [['com869', 5.38], ['com648', 7.68], ['com818', 6.28], ['com174', 9.55], ['com494', 8.37], ['com294', 6.88], ['com735', 7.71], ['com950', 6.7], ['com738', 9.86], ['com767', 9.57], ['com503', 7.9], ['com765', 8.8], ['com477', 7.58], ['com859', 5.6], ['com424', 6.84]]}\n",
            "{'Derecho': [['Profesor 1', 3], ['Profesor 2', 1], ['Profesor 3', 4], ['Profesor 4', 4], ['Profesor 5', 2], ['Profesor 6', 2], ['Profesor 7', 0], ['Profesor 8', 1]], 'Ciencias Sociales': [['Profesor 1', 2], ['Profesor 2', 1], ['Profesor 3', 5], ['Profesor 4', 1], ['Profesor 5', 3], ['Profesor 6', 2], ['Profesor 7', 2], ['Profesor 8', 3]], 'Medicina': [['Profesor 1', 1], ['Profesor 2', 3], ['Profesor 3', 5], ['Profesor 4', 4], ['Profesor 5', 3], ['Profesor 6', 4], ['Profesor 7', 4], ['Profesor 8', 1]], 'Matemáticas': [['Profesor 1', 0], ['Profesor 2', 2], ['Profesor 3', 1], ['Profesor 4', 2], ['Profesor 5', 4], ['Profesor 6', 1], ['Profesor 7', 3], ['Profesor 8', 0]], 'Computación': [['Profesor 1', 4], ['Profesor 2', 2], ['Profesor 3', 4], ['Profesor 4', 1], ['Profesor 5', 0], ['Profesor 6', 5], ['Profesor 7', 4], ['Profesor 8', 4]]}\n"
          ]
        }
      ]
    },
    {
      "cell_type": "code",
      "source": [
        ""
      ],
      "metadata": {
        "id": "HsgqDo_6xrHH"
      },
      "execution_count": 240,
      "outputs": []
    }
  ]
}