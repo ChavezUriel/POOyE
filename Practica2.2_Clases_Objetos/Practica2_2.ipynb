{
  "nbformat": 4,
  "nbformat_minor": 0,
  "metadata": {
    "colab": {
      "name": "Practica2.2.ipynb",
      "provenance": []
    },
    "kernelspec": {
      "name": "python3",
      "display_name": "Python 3"
    },
    "language_info": {
      "name": "python"
    }
  },
  "cells": [
    {
      "cell_type": "markdown",
      "source": [
        "Programa para calcular el área y perímetro de al menos 5 figuras geométricas. Para cada figura geométrica debemos definir una clase, los atributos dependerán de la figura, deberá haber un método para cada cálculo así como un método para mostrar resultados.\n",
        "Debemos crear una función que sirva de menú principal donde el usuario elegirá qué figura desea calcular.\n",
        "El menú debe aparecer varias veces. Al final de la ejecución, debemos mostrar cuántas veces se realizaron  los cálculos de cada figura en el menú."
      ],
      "metadata": {
        "id": "kxfMw9Q0_PHk"
      }
    },
    {
      "cell_type": "code",
      "source": [
        "import math"
      ],
      "metadata": {
        "id": "ZEKB8u3rBpWB"
      },
      "execution_count": 77,
      "outputs": []
    },
    {
      "cell_type": "code",
      "source": [
        "class triangulo:\n",
        "  def __init__(self, lado1, lado2, angulo12):\n",
        "    self.lado1 = lado1\n",
        "    self.lado2 = lado2\n",
        "    self.angulo12 = angulo12%(2*math.pi)\n",
        "    self.lado3 = round(math.sqrt(lado1**2 + lado2**2 + 2*lado1*lado2*math.cos(angulo12)),3)\n",
        "    self.angulo23 = math.asin(self.lado1*math.sin(self.angulo12)/self.lado3)\n",
        "    self.angulo31 = math.asin(self.lado2*math.sin(self.angulo12)/self.lado3)\n",
        "\n",
        "  def c_area(self):\n",
        "    sp = (self.lado1+self.lado2+self.lado3)/2\n",
        "    self.area = round(math.sqrt(sp*(sp-self.lado1)*(sp-self.lado2)*(sp-self.lado3)),3)\n",
        "\n",
        "  def mostrar_area(self):\n",
        "      print(\"El área del triángulo de Lado 1 = \"+str(self.lado1)+\", Lado 2 = \"+str(self.lado2)+\" y Ángulo 1,2 = \"+str(round(self.angulo12,3))+\" es: \"+str(self.area))"
      ],
      "metadata": {
        "id": "V-SxnOo1_P5D"
      },
      "execution_count": 143,
      "outputs": []
    },
    {
      "cell_type": "code",
      "source": [
        "class cuadrado:\n",
        "  def __init__(self, lado):\n",
        "    self.lado = lado\n",
        "\n",
        "  def c_area(self):\n",
        "    self.area = self.lado**2\n",
        "\n",
        "  def mostrar_area(self):\n",
        "      print(\"El área del cuadrado de lado \"+str(self.lado)+\" es: \"+str(self.area))"
      ],
      "metadata": {
        "id": "XNuSxkVRAtri"
      },
      "execution_count": 144,
      "outputs": []
    },
    {
      "cell_type": "code",
      "source": [
        "class rectangulo:\n",
        "  def __init__(self, base, altura):\n",
        "    self.base = base\n",
        "    self.altura = altura\n",
        "\n",
        "  def c_area(self):\n",
        "    self.area = self.base*self.altura\n",
        "\n",
        "  def mostrar_area(self):\n",
        "      print(\"El área del rectángulo de base \"+str(self.base)+\" y altura \"+str(self.altura)+\" es: \"+str(self.area))"
      ],
      "metadata": {
        "id": "Uqlhk_zaA5JO"
      },
      "execution_count": 145,
      "outputs": []
    },
    {
      "cell_type": "code",
      "source": [
        "class circulo:\n",
        "  def __init__(self, radio):\n",
        "    self.radio = radio\n",
        "\n",
        "  def c_area(self):\n",
        "    self.area = math.pi*self.radio**2\n",
        "\n",
        "  def mostrar_area(self):\n",
        "      print(\"El área del cítculo de radio \"+str(round(self.radio,3))+\" es: \"+str(round(self.area,3)))"
      ],
      "metadata": {
        "id": "iAlimqIiA9kD"
      },
      "execution_count": 146,
      "outputs": []
    },
    {
      "cell_type": "code",
      "source": [
        "class poligono:\n",
        "  def __init__(self,lados,lado):\n",
        "    self.lados = lados\n",
        "    self.lado = lado\n",
        "  \n",
        "  def c_area(self):\n",
        "    altura = self.lado/2/math.tan(2*math.pi/self.lados/2)\n",
        "    self.area = self.lado*altura/2*self.lados\n",
        "  \n",
        "  def mostrar_area(self):\n",
        "    print(\"El área del polígono de \"+str(self.lados)+\" lados con longitud de lado \"+str(self.lado)+\" es: \"+str(round(self.area,3)))\n"
      ],
      "metadata": {
        "id": "7z27q45lBKkt"
      },
      "execution_count": 147,
      "outputs": []
    },
    {
      "cell_type": "code",
      "source": [
        "tr1 = triangulo(2,2,math.pi/2)\n",
        "tr1.c_area()\n",
        "tr1.mostrar_area()"
      ],
      "metadata": {
        "colab": {
          "base_uri": "https://localhost:8080/"
        },
        "id": "b_W_hItnMQFw",
        "outputId": "ec36fe9e-ffc7-4a5d-e5e6-209327b0dcab"
      },
      "execution_count": 148,
      "outputs": [
        {
          "output_type": "stream",
          "name": "stdout",
          "text": [
            "El área del triángulo de Lado 1 = 2, Lado 2 = 2 y Ángulo 1,2 = 1.571 es: 2.0\n"
          ]
        }
      ]
    },
    {
      "cell_type": "code",
      "source": [
        "cdr1 = cuadrado(5)\n",
        "cdr1.c_area()\n",
        "cdr1.mostrar_area()"
      ],
      "metadata": {
        "colab": {
          "base_uri": "https://localhost:8080/"
        },
        "id": "fvCiKYsRMmwL",
        "outputId": "b0e0a41a-17eb-4e0a-95cf-510591001d3f"
      },
      "execution_count": 149,
      "outputs": [
        {
          "output_type": "stream",
          "name": "stdout",
          "text": [
            "El área del cuadrado de lado 5 es: 25\n"
          ]
        }
      ]
    },
    {
      "cell_type": "code",
      "source": [
        "rec1 = rectangulo(4,3)\n",
        "rec1.c_area()\n",
        "rec1.mostrar_area()"
      ],
      "metadata": {
        "colab": {
          "base_uri": "https://localhost:8080/"
        },
        "id": "s-H13vG5M1zu",
        "outputId": "9cdca724-8075-4694-f169-7e6d0edf1efe"
      },
      "execution_count": 150,
      "outputs": [
        {
          "output_type": "stream",
          "name": "stdout",
          "text": [
            "El área del rectángulo de base 4 y altura 3 es: 12\n"
          ]
        }
      ]
    },
    {
      "cell_type": "code",
      "source": [
        "cir1 = circulo(1/math.sqrt(math.pi))\n",
        "cir1.c_area()\n",
        "cir1.mostrar_area()"
      ],
      "metadata": {
        "colab": {
          "base_uri": "https://localhost:8080/"
        },
        "id": "9wLtIoeUNA70",
        "outputId": "1c389748-39b0-4f9f-eb7c-01f74068eb34"
      },
      "execution_count": 151,
      "outputs": [
        {
          "output_type": "stream",
          "name": "stdout",
          "text": [
            "El área del cítculo de radio 0.564 es: 1.0\n"
          ]
        }
      ]
    },
    {
      "cell_type": "code",
      "source": [
        "pentagono = poligono(10,1)\n",
        "pentagono.c_area()\n",
        "pentagono.mostrar_area()"
      ],
      "metadata": {
        "colab": {
          "base_uri": "https://localhost:8080/"
        },
        "id": "tL1oljKPCxq0",
        "outputId": "77d1a136-4229-45b3-8111-05d7f1b20c5d"
      },
      "execution_count": 152,
      "outputs": [
        {
          "output_type": "stream",
          "name": "stdout",
          "text": [
            "El área del polígono de 10 lados con longitud de lado 1 es: 7.694\n"
          ]
        }
      ]
    },
    {
      "cell_type": "code",
      "source": [
        "def menu():\n",
        "  conteo = {\"Triángulo\":0,\"Cuadrado\":0,\"Rectángulo\":0,\"Círculo\":0,\"Polígono regular\":0}\n",
        "  op = \"6\"\n",
        "  fig = cuadrado(0)\n",
        "  while(op != \"0\"):\n",
        "    print(\"Menú\") \n",
        "    print(\"Cálculo de áreas\")\n",
        "    print(\"1. Triángulo\")\n",
        "    print(\"2. Cuadrado\")\n",
        "    print(\"3. Rectángulo\")\n",
        "    print(\"4. Círculo\")\n",
        "    print(\"5. Polígono regular\")\n",
        "    print(\"0. Salir\")\n",
        "    op = input(\"\\nIngrese una opción: \")\n",
        "    if(op == \"1\"):\n",
        "      l1 = float(input(\"\\nIngrese la longitud del lado 1: \"))\n",
        "      l2 = float(input(\"Ingrese la longitud del lado 2: \"))\n",
        "      a12 = float(input(\"Ingrese el ángulo 1,2: \"))\n",
        "      fig = triangulo(l1,l2,a12)\n",
        "      conteo[\"Triángulo\"] += 1\n",
        "    elif(op == \"2\"):\n",
        "      l = float(input(\"\\nIngrese la longitud de lado: \"))\n",
        "      fig = cuadrado(l)\n",
        "      conteo[\"Cuadrado\"] += 1\n",
        "    elif(op == \"3\"):\n",
        "      b = float(input(\"\\nIngrese la longitud de la base: \"))\n",
        "      a = float(input(\"Ingrese la longitud de la altura: \"))\n",
        "      fig = rectangulo(a,b)\n",
        "      conteo[\"Rectángulo\"] += 1\n",
        "    elif(op == \"4\"):\n",
        "      r = float(input(\"\\nIngrese la longitud del radio: \"))\n",
        "      fig = circulo(r)\n",
        "      conteo[\"Círculo\"] += 1\n",
        "    elif(op == \"5\"):\n",
        "      n = float(input(\"\\nIngrese el número de lados: \"))\n",
        "      l = float(input(\"Ingrese la longitud de lado: \"))\n",
        "      fig = poligono(n,l)\n",
        "      conteo[\"Polígono regular\"] += 1\n",
        "    if(op != \"0\"):\n",
        "      if(int(op) < 6 and int(op) > 0):\n",
        "        fig.c_area()\n",
        "        fig.mostrar_area()\n",
        "        print(\"\\n\")\n",
        "      else:\n",
        "        print(\"Opción no válida.\\n\")\n",
        "    else:\n",
        "      print(\"\\nSaliendo del menú.\")\n",
        "  print(\"\\n\\nCantidad de veces que se calculó el área de cada figura: \")\n",
        "  print(conteo)\n"
      ],
      "metadata": {
        "id": "_q0PYb5gC4yu"
      },
      "execution_count": 170,
      "outputs": []
    },
    {
      "cell_type": "code",
      "source": [
        "menu()\n"
      ],
      "metadata": {
        "colab": {
          "base_uri": "https://localhost:8080/"
        },
        "id": "ndz8tNavJ4me",
        "outputId": "69eb874b-e10b-4a23-c067-6f28ded57307"
      },
      "execution_count": 171,
      "outputs": [
        {
          "output_type": "stream",
          "name": "stdout",
          "text": [
            "Menú\n",
            "Cálculo de áreas\n",
            "1. Triángulo\n",
            "2. Cuadrado\n",
            "3. Rectángulo\n",
            "4. Círculo\n",
            "5. Polígono regular\n",
            "0. Salir\n",
            "\n",
            "Ingrese una opción: 1\n",
            "\n",
            "Ingrese la longitud del lado 1: 1\n",
            "Ingrese la longitud del lado 2: 1\n",
            "Ingrese el ángulo 1,2: 1\n",
            "El área del triángulo de Lado 1 = 1.0, Lado 2 = 1.0 y Ángulo 1,2 = 1.0 es: 0.421\n",
            "\n",
            "\n",
            "Menú\n",
            "Cálculo de áreas\n",
            "1. Triángulo\n",
            "2. Cuadrado\n",
            "3. Rectángulo\n",
            "4. Círculo\n",
            "5. Polígono regular\n",
            "0. Salir\n",
            "\n",
            "Ingrese una opción: 2\n",
            "\n",
            "Ingrese la longitud de lado: 2\n",
            "El área del cuadrado de lado 2.0 es: 4.0\n",
            "\n",
            "\n",
            "Menú\n",
            "Cálculo de áreas\n",
            "1. Triángulo\n",
            "2. Cuadrado\n",
            "3. Rectángulo\n",
            "4. Círculo\n",
            "5. Polígono regular\n",
            "0. Salir\n",
            "\n",
            "Ingrese una opción: 3\n",
            "\n",
            "Ingrese la longitud de la base: 3\n",
            "Ingrese la longitud de la altura: 3\n",
            "El área del rectángulo de base 3.0 y altura 3.0 es: 9.0\n",
            "\n",
            "\n",
            "Menú\n",
            "Cálculo de áreas\n",
            "1. Triángulo\n",
            "2. Cuadrado\n",
            "3. Rectángulo\n",
            "4. Círculo\n",
            "5. Polígono regular\n",
            "0. Salir\n",
            "\n",
            "Ingrese una opción: 4\n",
            "\n",
            "Ingrese la longitud del radio: 4\n",
            "El área del cítculo de radio 4.0 es: 50.265\n",
            "\n",
            "\n",
            "Menú\n",
            "Cálculo de áreas\n",
            "1. Triángulo\n",
            "2. Cuadrado\n",
            "3. Rectángulo\n",
            "4. Círculo\n",
            "5. Polígono regular\n",
            "0. Salir\n",
            "\n",
            "Ingrese una opción: 5\n",
            "\n",
            "Ingrese el número de lados: 5\n",
            "Ingrese la longitud de lado: 5\n",
            "El área del polígono de 5.0 lados con longitud de lado 5.0 es: 43.012\n",
            "\n",
            "\n",
            "Menú\n",
            "Cálculo de áreas\n",
            "1. Triángulo\n",
            "2. Cuadrado\n",
            "3. Rectángulo\n",
            "4. Círculo\n",
            "5. Polígono regular\n",
            "0. Salir\n",
            "\n",
            "Ingrese una opción: 1\n",
            "\n",
            "Ingrese la longitud del lado 1: 1\n",
            "Ingrese la longitud del lado 2: 1\n",
            "Ingrese el ángulo 1,2: 1\n",
            "El área del triángulo de Lado 1 = 1.0, Lado 2 = 1.0 y Ángulo 1,2 = 1.0 es: 0.421\n",
            "\n",
            "\n",
            "Menú\n",
            "Cálculo de áreas\n",
            "1. Triángulo\n",
            "2. Cuadrado\n",
            "3. Rectángulo\n",
            "4. Círculo\n",
            "5. Polígono regular\n",
            "0. Salir\n",
            "\n",
            "Ingrese una opción: 2\n",
            "\n",
            "Ingrese la longitud de lado: 2\n",
            "El área del cuadrado de lado 2.0 es: 4.0\n",
            "\n",
            "\n",
            "Menú\n",
            "Cálculo de áreas\n",
            "1. Triángulo\n",
            "2. Cuadrado\n",
            "3. Rectángulo\n",
            "4. Círculo\n",
            "5. Polígono regular\n",
            "0. Salir\n",
            "\n",
            "Ingrese una opción: 2\n",
            "\n",
            "Ingrese la longitud de lado: 2\n",
            "El área del cuadrado de lado 2.0 es: 4.0\n",
            "\n",
            "\n",
            "Menú\n",
            "Cálculo de áreas\n",
            "1. Triángulo\n",
            "2. Cuadrado\n",
            "3. Rectángulo\n",
            "4. Círculo\n",
            "5. Polígono regular\n",
            "0. Salir\n",
            "\n",
            "Ingrese una opción: 4\n",
            "\n",
            "Ingrese la longitud del radio: 4\n",
            "El área del cítculo de radio 4.0 es: 50.265\n",
            "\n",
            "\n",
            "Menú\n",
            "Cálculo de áreas\n",
            "1. Triángulo\n",
            "2. Cuadrado\n",
            "3. Rectángulo\n",
            "4. Círculo\n",
            "5. Polígono regular\n",
            "0. Salir\n",
            "\n",
            "Ingrese una opción: 4\n",
            "\n",
            "Ingrese la longitud del radio: 4\n",
            "El área del cítculo de radio 4.0 es: 50.265\n",
            "\n",
            "\n",
            "Menú\n",
            "Cálculo de áreas\n",
            "1. Triángulo\n",
            "2. Cuadrado\n",
            "3. Rectángulo\n",
            "4. Círculo\n",
            "5. Polígono regular\n",
            "0. Salir\n",
            "\n",
            "Ingrese una opción: 4\n",
            "\n",
            "Ingrese la longitud del radio: 4\n",
            "El área del cítculo de radio 4.0 es: 50.265\n",
            "\n",
            "\n",
            "Menú\n",
            "Cálculo de áreas\n",
            "1. Triángulo\n",
            "2. Cuadrado\n",
            "3. Rectángulo\n",
            "4. Círculo\n",
            "5. Polígono regular\n",
            "0. Salir\n",
            "\n",
            "Ingrese una opción: 0\n",
            "\n",
            "Saliendo del menú.\n",
            "\n",
            "\n",
            "Cantidad de veces que se calculó el área de cada figura: \n",
            "{'Triángulo': 2, 'Cuadrado': 3, 'Rectángulo': 1, 'Círculo': 4, 'Polígono regular': 1}\n"
          ]
        }
      ]
    },
    {
      "cell_type": "code",
      "source": [
        ""
      ],
      "metadata": {
        "id": "Y0BSoSYCRIrA"
      },
      "execution_count": null,
      "outputs": []
    }
  ]
}